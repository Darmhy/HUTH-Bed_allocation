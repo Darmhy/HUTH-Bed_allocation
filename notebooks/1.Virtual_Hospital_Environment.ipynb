{
 "cells": [
  {
   "cell_type": "markdown",
   "id": "f765cfe6",
   "metadata": {},
   "source": [
    "# Virtual Hospital walkthrough\n",
    "\n",
    "The virtual hospital environment comprises several components that can be tailored to mimic any arbitrary hospital structure, allowing the user to test the allocation agents at different scales. It is based on a tree-like structure using the [anytree library](https://pypi.org/project/anytree/) to define the hierarchical structure of a hospital. \n",
    "\n",
    "The user can build virtual hospitals containing the desired number of wards, rooms and beds. In addition, the virtual hospital encodes the allocation restrictions and associated penalties that apply to the hospital, as well as the data structure for patients. We have encoded different types of ward (medical, surgical) and rooms (bed bays, side rooms) to cater for a broad range of allocation rules. In addition, certain restrictions apply specifically to a patient and are thus contained within the patient class (e.g. if a patient requires a sideroom).\n",
    "\n",
    "This notebook demonstrates how to create a hospital object. The hospital will consist of 4 medical wards and 2 surgical wards as detailed below. Within each ward we will add a number of rooms (bed bays and side rooms) as well as ward and room restrictions. We will then save this hospital object to reuse in subsequent notebooks and the UI.In the second half of the notebook we demonstrate how to admit and discharge patients from the hospital, and calculate the associated penalties. \n",
    "\n",
    "## 1. Import required modules\n",
    "\n",
    "_Note:_ you will need to first install the module as per the instructions in the main README, and run a notebook server from within the same virtual environment to have access to the `hospital` submodules."
   ]
  },
  {
   "cell_type": "code",
   "execution_count": 1,
   "id": "5b8ada0b",
   "metadata": {},
   "outputs": [],
   "source": [
    "import cloudpickle\n",
    "import pandas as pd\n",
    "\n",
    "from hospital.equipment.bed import Bed\n",
    "from hospital.building.room import BedBay, SideRoom\n",
    "from hospital.building.ward import SurgicalWard, MedicalWard\n",
    "from hospital.building.building import Hospital\n",
    "from hospital.restrictions import ward as W\n",
    "from hospital.restrictions import room as R\n",
    "from hospital.people import Patient"
   ]
  },
  {
   "cell_type": "markdown",
   "id": "bc34d22a",
   "metadata": {},
   "source": [
    "## 2. Create Virtual Hospital"
   ]
  },
  {
   "cell_type": "markdown",
   "id": "5bf5c136",
   "metadata": {},
   "source": [
    "Initialise the hospital object with a name. We can then set up a list of ward definitions, where wards can either be medical or surgial. In addition a list of specialties can be added, as well as ward sex if applicable. Finally, we apply some ward level restrictions. A full set of available ward restrictions are within the `hospital.restrictions.ward` submodule. "
   ]
  },
  {
   "cell_type": "code",
   "execution_count": 2,
   "id": "9a13730f",
   "metadata": {},
   "outputs": [],
   "source": [
    "# initialise hospital object\n",
    "hospital = Hospital(\"H1\")"
   ]
  },
  {
   "cell_type": "markdown",
   "id": "310a44f9",
   "metadata": {},
   "source": [
    "### 2.1 Create wards"
   ]
  },
  {
   "cell_type": "code",
   "execution_count": 3,
   "id": "213146b1",
   "metadata": {},
   "outputs": [
    {
     "data": {
      "text/plain": "(<MedicalWard(name=Ward A)>,\n <MedicalWard(name=Ward B)>,\n <MedicalWard(name=Ward C)>,\n <MedicalWard(name=Ward D)>,\n <SurgicalWard(name=Ward E)>,\n <SurgicalWard(name=Ward F)>)"
     },
     "execution_count": 3,
     "metadata": {},
     "output_type": "execute_result"
    }
   ],
   "source": [
    "# Setup Wards and restrictions\n",
    "wards = [\n",
    "    MedicalWard(\n",
    "        name=\"Ward A\",\n",
    "        specialty=[\"general\"],\n",
    "        restrictions=[\n",
    "            W.NoKnownCovid(10),\n",
    "            W.NoSuspectedCovid(10),\n",
    "            W.NoSurgical(3),\n",
    "            W.IncorrectSpecialty(2)\n",
    "        ],\n",
    "        hospital=hospital,\n",
    "    ),\n",
    "    MedicalWard(\n",
    "        name=\"Ward B\",\n",
    "        sex=\"female\",\n",
    "        specialty=[\"endocrinology\"],\n",
    "        restrictions=[\n",
    "            W.NoKnownCovid(10),\n",
    "            W.NoSuspectedCovid(10),\n",
    "            W.NoSurgical(3),\n",
    "            W.IncorrectSpecialty(2),\n",
    "            W.IncorrectSex(10),\n",
    "        ],\n",
    "        hospital=hospital,\n",
    "    ),\n",
    "    MedicalWard(\n",
    "        name=\"Ward C\",\n",
    "        sex=\"male\",\n",
    "        specialty=[\"endocrinology\"],\n",
    "        restrictions=[\n",
    "            W.NoKnownCovid(10),\n",
    "            W.NoSuspectedCovid(10),\n",
    "            W.NoSurgical(3),\n",
    "            W.IncorrectSpecialty(2),\n",
    "            W.IncorrectSex(10),\n",
    "        ],\n",
    "        hospital=hospital,\n",
    "    ),\n",
    "    MedicalWard(\n",
    "        name=\"Ward D\",\n",
    "        specialty=[\"Respiratory\"],\n",
    "        restrictions=[\n",
    "            W.NoNonCovid(10),\n",
    "            W.NoSurgical(3),\n",
    "            W.IncorrectSpecialty(2),\n",
    "        ],\n",
    "        hospital=hospital,\n",
    "    ),\n",
    "    SurgicalWard(\n",
    "        name=\"Ward E\",\n",
    "        department=\"surgery\",\n",
    "        specialty=[\"general\"],\n",
    "        restrictions=[\n",
    "            W.NoKnownCovid(10),\n",
    "            W.NoSuspectedCovid(10),\n",
    "            W.NoMedical(1),\n",
    "            W.IncorrectSpecialty(2),\n",
    "            W.NoAcuteSurgical(8),\n",
    "        ],\n",
    "        hospital=hospital,\n",
    "    ),\n",
    "    SurgicalWard(\n",
    "        name=\"Ward F\",\n",
    "        department=\"surgery\",\n",
    "        specialty=[\"trauma_and_orthopaedic\"],\n",
    "        restrictions=[\n",
    "            W.NoKnownCovid(10),\n",
    "            W.NoSuspectedCovid(10),\n",
    "            W.NoMedical(1),\n",
    "            W.IncorrectSpecialty(2),\n",
    "            W.NoAcuteSurgical(8),\n",
    "        ],\n",
    "        hospital=hospital,\n",
    "    ),\n",
    "]\n",
    "\n",
    "# check wards in hospital\n",
    "hospital.wards"
   ]
  },
  {
   "cell_type": "markdown",
   "id": "0d7d6f8e",
   "metadata": {},
   "source": [
    "### 2.2 Add rooms and beds"
   ]
  },
  {
   "cell_type": "markdown",
   "id": "2898ffb8",
   "metadata": {},
   "source": [
    "We can then attach rooms and beds to wards. Below we create a generator to yield ward names, a dictionary to define the number of beds and siderooms we wish to add to each ward and a helper function that generates the bed bays and siderooms. In this function each side room has a single bed and the remaining beds are split into bed bays with roughly 6 beds each but the user can define whatever configuration they desire. We also apply a NoMixedSex room restriction to all the bed bays, additional room level restrictions are available in the `hospital.restrictions.room` sub module."
   ]
  },
  {
   "cell_type": "code",
   "execution_count": 4,
   "id": "a4ca6879",
   "metadata": {},
   "outputs": [],
   "source": [
    "# Create an iterator of IDs to avoid duplicating names\n",
    "ROOM_IDS = iter(f\"R{str(n).zfill(2)}\" for n in range(100))\n",
    "BED_IDS = iter((f\"B{str(n).zfill(3)}\" for n in range(1000)))\n",
    "\n",
    "# define the number of beds and siderooms for each ward\n",
    "WARD_TO_ROOMS = {\n",
    "    \"Ward A\":{\"beds\":31, \"siderooms\":2},\n",
    "    \"Ward B\":{\"beds\":27, \"siderooms\":6},\n",
    "    \"Ward C\":{\"beds\":27, \"siderooms\":6},\n",
    "    \"Ward D\":{\"beds\":18, \"siderooms\":2},\n",
    "    \"Ward E\":{\"beds\":24, \"siderooms\":0},\n",
    "    \"Ward F\":{\"beds\":27, \"siderooms\":3},\n",
    "}\n",
    "\n",
    "def generate_rooms(ward, ward_to_room_map, room_ids, bed_ids):\n",
    "    \"\"\"\n",
    "    Generate side rooms and bed bays  and beds for a ward.\n",
    "    \"\"\"\n",
    "    rooms = []\n",
    "    # add siderooms\n",
    "    for sideroom in range(ward_to_room_map[ward.name][\"siderooms\"]):\n",
    "        rooms.append(\n",
    "            SideRoom(\n",
    "                name=next(room_ids),\n",
    "                beds=[Bed(name=next(bed_ids))],\n",
    "                ward=ward,\n",
    "            )\n",
    "        )\n",
    "        \n",
    "    # add bed bays\n",
    "    total_beds = (\n",
    "        ward_to_room_map[ward.name][\"beds\"] \n",
    "        - ward_to_room_map[ward.name][\"siderooms\"]\n",
    "    )\n",
    "    num_bays = total_beds // 6\n",
    "    bed_bay_numbers = [\n",
    "        total_beds // num_bays + (1 if x < total_beds % num_bays else 0)\n",
    "        for x in range(num_bays)\n",
    "    ]\n",
    "    for num_beds in bed_bay_numbers:\n",
    "        rooms.append(\n",
    "            BedBay(\n",
    "                name=next(room_ids),\n",
    "                beds=[Bed(name=next(bed_ids)) for i in range(num_beds)],\n",
    "                # NoMixedSex restriction applies to all bed bays\n",
    "                restrictions=[R.NoMixedSex(8)],\n",
    "                ward=ward,\n",
    "            )\n",
    "        )\n",
    "    return rooms"
   ]
  },
  {
   "cell_type": "code",
   "execution_count": 5,
   "id": "160898ad",
   "metadata": {},
   "outputs": [
    {
     "name": "stdout",
     "output_type": "stream",
     "text": [
      "Rooms: 39,Beds: 154\n"
     ]
    }
   ],
   "source": [
    "for ward in wards:\n",
    "    ward_rooms = {}\n",
    "    ward_rooms[ward.name] = generate_rooms(ward, WARD_TO_ROOMS, ROOM_IDS, BED_IDS)\n",
    "    \n",
    "print(f\"Rooms: {len(hospital.rooms)},Beds: {len(hospital.beds)}\")"
   ]
  },
  {
   "cell_type": "markdown",
   "id": "c9fd3349",
   "metadata": {},
   "source": [
    "### 2.3 Save the hospital\n",
    "we save the hospital using cloudpickle to use in later notebooks and the UI"
   ]
  },
  {
   "cell_type": "code",
   "execution_count": 6,
   "id": "2e47ca6c",
   "metadata": {},
   "outputs": [],
   "source": [
    "with open(\"../data/hospital.pkl\", \"wb\") as f:\n",
    "    cloudpickle.dump(hospital, f)"
   ]
  },
  {
   "cell_type": "markdown",
   "id": "c50450a7",
   "metadata": {},
   "source": [
    "### 2.4 Export wards.csv\n",
    "\n",
    "For the UI, we need to capture the hospital configuration as a `.csv` file.\n",
    "\n",
    "_Note: you will need to generate specialty data first, which can be done with the [fake data generator](../fake_data_generation)_"
   ]
  },
  {
   "cell_type": "code",
   "execution_count": 7,
   "id": "fa10b91f",
   "metadata": {},
   "outputs": [
    {
     "name": "stdout",
     "output_type": "stream",
     "text": [
      "Specialty info not found\n"
     ]
    },
    {
     "ename": "FileNotFoundError",
     "evalue": "[Errno 2] No such file or directory: 'c:\\\\users\\\\darmhy\\\\appdata\\\\local\\\\programs\\\\python\\\\python39\\\\lib\\\\site-packages\\\\forecasting\\\\../../data/specialty_info.json'",
     "output_type": "error",
     "traceback": [
      "\u001B[1;31m---------------------------------------------------------------------------\u001B[0m",
      "\u001B[1;31mFileNotFoundError\u001B[0m                         Traceback (most recent call last)",
      "Input \u001B[1;32mIn [7]\u001B[0m, in \u001B[0;36m<cell line: 4>\u001B[1;34m()\u001B[0m\n\u001B[0;32m      2\u001B[0m \u001B[38;5;28;01mimport\u001B[39;00m \u001B[38;5;21;01msys\u001B[39;00m\n\u001B[0;32m      3\u001B[0m sys\u001B[38;5;241m.\u001B[39mpath\u001B[38;5;241m.\u001B[39mappend(\u001B[38;5;124m\"\u001B[39m\u001B[38;5;124m../app/app\u001B[39m\u001B[38;5;124m\"\u001B[39m)\n\u001B[1;32m----> 4\u001B[0m \u001B[38;5;28;01mfrom\u001B[39;00m \u001B[38;5;21;01mapi\u001B[39;00m \u001B[38;5;28;01mimport\u001B[39;00m _ward_covid_status\n\u001B[0;32m      5\u001B[0m \u001B[38;5;28;01mfrom\u001B[39;00m \u001B[38;5;21;01mforecasting\u001B[39;00m \u001B[38;5;28;01mimport\u001B[39;00m patient_sampler\n\u001B[0;32m      7\u001B[0m \u001B[38;5;66;03m# Create inverted specialities mapper\u001B[39;00m\n",
      "File \u001B[1;32m~\\Desktop\\Data Science\\py\\skunkworks-bed-allocation\\notebooks\\../app/app\\api.py:10\u001B[0m, in \u001B[0;36m<module>\u001B[1;34m\u001B[0m\n\u001B[0;32m      7\u001B[0m \u001B[38;5;28;01mimport\u001B[39;00m \u001B[38;5;21;01mpandas\u001B[39;00m \u001B[38;5;28;01mas\u001B[39;00m \u001B[38;5;21;01mpd\u001B[39;00m\n\u001B[0;32m      8\u001B[0m \u001B[38;5;28;01mimport\u001B[39;00m \u001B[38;5;21;01mplotly\u001B[39;00m\u001B[38;5;21;01m.\u001B[39;00m\u001B[38;5;21;01mgraph_objects\u001B[39;00m \u001B[38;5;28;01mas\u001B[39;00m \u001B[38;5;21;01mgo\u001B[39;00m\n\u001B[1;32m---> 10\u001B[0m \u001B[38;5;28;01mfrom\u001B[39;00m \u001B[38;5;21;01magent\u001B[39;00m\u001B[38;5;21;01m.\u001B[39;00m\u001B[38;5;21;01mpolicy\u001B[39;00m \u001B[38;5;28;01mimport\u001B[39;00m greedy_suggestions, populate_hospital\n\u001B[0;32m     11\u001B[0m \u001B[38;5;28;01mfrom\u001B[39;00m \u001B[38;5;21;01mforecasting\u001B[39;00m\u001B[38;5;21;01m.\u001B[39;00m\u001B[38;5;21;01mpatient_sampler\u001B[39;00m \u001B[38;5;28;01mimport\u001B[39;00m (\n\u001B[0;32m     12\u001B[0m     fill_magnets,\n\u001B[0;32m     13\u001B[0m     filter_patients,\n\u001B[0;32m     14\u001B[0m     generate_random_patients,\n\u001B[0;32m     15\u001B[0m     pandas_to_patients,\n\u001B[0;32m     16\u001B[0m )\n\u001B[0;32m     17\u001B[0m \u001B[38;5;28;01mfrom\u001B[39;00m \u001B[38;5;21;01mforecasting\u001B[39;00m\u001B[38;5;21;01m.\u001B[39;00m\u001B[38;5;21;01mutils\u001B[39;00m \u001B[38;5;28;01mimport\u001B[39;00m (\n\u001B[0;32m     18\u001B[0m     map_to_date,\n\u001B[0;32m     19\u001B[0m     split_historic_forecast,\n\u001B[0;32m     20\u001B[0m     split_training,\n\u001B[0;32m     21\u001B[0m )\n",
      "File \u001B[1;32mc:\\users\\darmhy\\appdata\\local\\programs\\python\\python39\\lib\\site-packages\\agent\\policy.py:6\u001B[0m, in \u001B[0;36m<module>\u001B[1;34m\u001B[0m\n\u001B[0;32m      3\u001B[0m \u001B[38;5;28;01mfrom\u001B[39;00m \u001B[38;5;21;01mcollections\u001B[39;00m \u001B[38;5;28;01mimport\u001B[39;00m defaultdict\n\u001B[0;32m      4\u001B[0m \u001B[38;5;28;01mfrom\u001B[39;00m \u001B[38;5;21;01moperator\u001B[39;00m \u001B[38;5;28;01mimport\u001B[39;00m itemgetter\n\u001B[1;32m----> 6\u001B[0m \u001B[38;5;28;01mfrom\u001B[39;00m \u001B[38;5;21;01magent\u001B[39;00m\u001B[38;5;21;01m.\u001B[39;00m\u001B[38;5;21;01mutils\u001B[39;00m \u001B[38;5;28;01mimport\u001B[39;00m generate_random_patient, reduce_restrictions\n\u001B[0;32m      7\u001B[0m \u001B[38;5;28;01mfrom\u001B[39;00m \u001B[38;5;21;01mhospital\u001B[39;00m\u001B[38;5;21;01m.\u001B[39;00m\u001B[38;5;21;01mbuilding\u001B[39;00m\u001B[38;5;21;01m.\u001B[39;00m\u001B[38;5;21;01mbuilding\u001B[39;00m \u001B[38;5;28;01mimport\u001B[39;00m Hospital\n\u001B[0;32m      8\u001B[0m \u001B[38;5;28;01mfrom\u001B[39;00m \u001B[38;5;21;01mhospital\u001B[39;00m\u001B[38;5;21;01m.\u001B[39;00m\u001B[38;5;21;01mbuilding\u001B[39;00m\u001B[38;5;21;01m.\u001B[39;00m\u001B[38;5;21;01mroom\u001B[39;00m \u001B[38;5;28;01mimport\u001B[39;00m BedBay, SideRoom\n",
      "File \u001B[1;32mc:\\users\\darmhy\\appdata\\local\\programs\\python\\python39\\lib\\site-packages\\agent\\utils.py:8\u001B[0m, in \u001B[0;36m<module>\u001B[1;34m\u001B[0m\n\u001B[0;32m      4\u001B[0m \u001B[38;5;28;01mfrom\u001B[39;00m \u001B[38;5;21;01mtyping\u001B[39;00m \u001B[38;5;28;01mimport\u001B[39;00m Generator\n\u001B[0;32m      6\u001B[0m \u001B[38;5;28;01mimport\u001B[39;00m \u001B[38;5;21;01mnumpy\u001B[39;00m \u001B[38;5;28;01mas\u001B[39;00m \u001B[38;5;21;01mnp\u001B[39;00m\n\u001B[1;32m----> 8\u001B[0m \u001B[38;5;28;01mfrom\u001B[39;00m \u001B[38;5;21;01mforecasting\u001B[39;00m\u001B[38;5;21;01m.\u001B[39;00m\u001B[38;5;21;01mpatient_sampler\u001B[39;00m \u001B[38;5;28;01mimport\u001B[39;00m (\n\u001B[0;32m      9\u001B[0m     fill_magnets,\n\u001B[0;32m     10\u001B[0m     filter_patients,\n\u001B[0;32m     11\u001B[0m     generate_random_patients,\n\u001B[0;32m     12\u001B[0m     pandas_to_patients,\n\u001B[0;32m     13\u001B[0m )\n\u001B[0;32m     14\u001B[0m \u001B[38;5;28;01mfrom\u001B[39;00m \u001B[38;5;21;01mhospital\u001B[39;00m\u001B[38;5;21;01m.\u001B[39;00m\u001B[38;5;21;01mbuilding\u001B[39;00m \u001B[38;5;28;01mimport\u001B[39;00m Hospital\n\u001B[0;32m     15\u001B[0m \u001B[38;5;28;01mfrom\u001B[39;00m \u001B[38;5;21;01mhospital\u001B[39;00m\u001B[38;5;21;01m.\u001B[39;00m\u001B[38;5;21;01mpeople\u001B[39;00m \u001B[38;5;28;01mimport\u001B[39;00m Patient\n",
      "File \u001B[1;32mc:\\users\\darmhy\\appdata\\local\\programs\\python\\python39\\lib\\site-packages\\forecasting\\__init__.py:2\u001B[0m, in \u001B[0;36m<module>\u001B[1;34m\u001B[0m\n\u001B[0;32m      1\u001B[0m \u001B[38;5;28;01mfrom\u001B[39;00m \u001B[38;5;21;01m.\u001B[39;00m\u001B[38;5;21;01mforecast\u001B[39;00m \u001B[38;5;28;01mimport\u001B[39;00m PatientForecast\n\u001B[1;32m----> 2\u001B[0m \u001B[38;5;28;01mfrom\u001B[39;00m \u001B[38;5;21;01m.\u001B[39;00m\u001B[38;5;21;01mpatient_sampler\u001B[39;00m \u001B[38;5;28;01mimport\u001B[39;00m PatientSampler, pandas_to_patients\n\u001B[0;32m      4\u001B[0m __all__ \u001B[38;5;241m=\u001B[39m [\n\u001B[0;32m      5\u001B[0m     \u001B[38;5;124m\"\u001B[39m\u001B[38;5;124mPatientForecast\u001B[39m\u001B[38;5;124m\"\u001B[39m,\n\u001B[0;32m      6\u001B[0m     \u001B[38;5;124m\"\u001B[39m\u001B[38;5;124mPatientSampler\u001B[39m\u001B[38;5;124m\"\u001B[39m,\n\u001B[0;32m      7\u001B[0m     \u001B[38;5;124m\"\u001B[39m\u001B[38;5;124mpandas_to_patients\u001B[39m\u001B[38;5;124m\"\u001B[39m,\n\u001B[0;32m      8\u001B[0m ]\n",
      "File \u001B[1;32mc:\\users\\darmhy\\appdata\\local\\programs\\python\\python39\\lib\\site-packages\\forecasting\\patient_sampler.py:35\u001B[0m, in \u001B[0;36m<module>\u001B[1;34m\u001B[0m\n\u001B[0;32m     33\u001B[0m \u001B[38;5;28;01mexcept\u001B[39;00m \u001B[38;5;167;01mFileNotFoundError\u001B[39;00m \u001B[38;5;28;01mas\u001B[39;00m e:\n\u001B[0;32m     34\u001B[0m     \u001B[38;5;28mprint\u001B[39m(\u001B[38;5;124m\"\u001B[39m\u001B[38;5;124mSpecialty info not found\u001B[39m\u001B[38;5;124m\"\u001B[39m)\n\u001B[1;32m---> 35\u001B[0m     \u001B[38;5;28;01mraise\u001B[39;00m e\n\u001B[0;32m     37\u001B[0m \u001B[38;5;28;01mtry\u001B[39;00m:\n\u001B[0;32m     38\u001B[0m     \u001B[38;5;28;01mwith\u001B[39;00m \u001B[38;5;28mopen\u001B[39m(\n\u001B[0;32m     39\u001B[0m         os\u001B[38;5;241m.\u001B[39mpath\u001B[38;5;241m.\u001B[39mjoin(DIRNAME, \u001B[38;5;124m\"\u001B[39m\u001B[38;5;124m../../data/hourly_elective_prob.json\u001B[39m\u001B[38;5;124m\"\u001B[39m)\n\u001B[0;32m     40\u001B[0m     ) \u001B[38;5;28;01mas\u001B[39;00m json_file:\n",
      "File \u001B[1;32mc:\\users\\darmhy\\appdata\\local\\programs\\python\\python39\\lib\\site-packages\\forecasting\\patient_sampler.py:29\u001B[0m, in \u001B[0;36m<module>\u001B[1;34m\u001B[0m\n\u001B[0;32m     16\u001B[0m _MAP_SPECIALTIES \u001B[38;5;241m=\u001B[39m {\n\u001B[0;32m     17\u001B[0m     \u001B[38;5;124m\"\u001B[39m\u001B[38;5;124mTrauma & Orthopaedic\u001B[39m\u001B[38;5;124m\"\u001B[39m: \u001B[38;5;124m\"\u001B[39m\u001B[38;5;124mtrauma_and_orthopaedic\u001B[39m\u001B[38;5;124m\"\u001B[39m,\n\u001B[0;32m     18\u001B[0m     \u001B[38;5;124m\"\u001B[39m\u001B[38;5;124mGeneral Internal Medicine\u001B[39m\u001B[38;5;124m\"\u001B[39m: \u001B[38;5;124m\"\u001B[39m\u001B[38;5;124mgeneral\u001B[39m\u001B[38;5;124m\"\u001B[39m,\n\u001B[1;32m   (...)\u001B[0m\n\u001B[0;32m     24\u001B[0m     \u001B[38;5;124m\"\u001B[39m\u001B[38;5;124mCardiology\u001B[39m\u001B[38;5;124m\"\u001B[39m: \u001B[38;5;124m\"\u001B[39m\u001B[38;5;124mcardiology\u001B[39m\u001B[38;5;124m\"\u001B[39m,\n\u001B[0;32m     25\u001B[0m }\n\u001B[0;32m     28\u001B[0m \u001B[38;5;28;01mtry\u001B[39;00m:\n\u001B[1;32m---> 29\u001B[0m     \u001B[38;5;28;01mwith\u001B[39;00m \u001B[38;5;28;43mopen\u001B[39;49m\u001B[43m(\u001B[49m\n\u001B[0;32m     30\u001B[0m \u001B[43m        \u001B[49m\u001B[43mos\u001B[49m\u001B[38;5;241;43m.\u001B[39;49m\u001B[43mpath\u001B[49m\u001B[38;5;241;43m.\u001B[39;49m\u001B[43mjoin\u001B[49m\u001B[43m(\u001B[49m\u001B[43mDIRNAME\u001B[49m\u001B[43m,\u001B[49m\u001B[43m \u001B[49m\u001B[38;5;124;43m\"\u001B[39;49m\u001B[38;5;124;43m../../data/specialty_info.json\u001B[39;49m\u001B[38;5;124;43m\"\u001B[39;49m\u001B[43m)\u001B[49m\n\u001B[0;32m     31\u001B[0m \u001B[43m    \u001B[49m\u001B[43m)\u001B[49m \u001B[38;5;28;01mas\u001B[39;00m json_file:\n\u001B[0;32m     32\u001B[0m         _SPECIALTY_INFO \u001B[38;5;241m=\u001B[39m json\u001B[38;5;241m.\u001B[39mload(json_file)\n\u001B[0;32m     33\u001B[0m \u001B[38;5;28;01mexcept\u001B[39;00m \u001B[38;5;167;01mFileNotFoundError\u001B[39;00m \u001B[38;5;28;01mas\u001B[39;00m e:\n",
      "\u001B[1;31mFileNotFoundError\u001B[0m: [Errno 2] No such file or directory: 'c:\\\\users\\\\darmhy\\\\appdata\\\\local\\\\programs\\\\python\\\\python39\\\\lib\\\\site-packages\\\\forecasting\\\\../../data/specialty_info.json'"
     ]
    }
   ],
   "source": [
    "# Import helper functions\n",
    "import sys\n",
    "sys.path.append(\"../app/app\")\n",
    "from api import _ward_covid_status\n",
    "from forecasting import patient_sampler\n",
    "\n",
    "# Create inverted specialities mapper\n",
    "_MAP_SPECIALTIES_INVERT = dict((v, k) for k, v in patient_sampler._MAP_SPECIALTIES.items())\n",
    "\n",
    "def _map_speciality_invert(specialty: str) -> str:\n",
    "    \"\"\"Inverted map of historic patient's specialty to properties in Patient class.\"\"\"\n",
    "\n",
    "    try:\n",
    "        return _MAP_SPECIALTIES_INVERT[specialty]\n",
    "    except KeyError:\n",
    "        print(f\"Incorrect Patient Specialty: {specialty}\")"
   ]
  },
  {
   "cell_type": "code",
   "execution_count": 8,
   "id": "41e2f2e0",
   "metadata": {},
   "outputs": [
    {
     "ename": "NameError",
     "evalue": "name '_map_speciality_invert' is not defined",
     "output_type": "error",
     "traceback": [
      "\u001B[1;31m---------------------------------------------------------------------------\u001B[0m",
      "\u001B[1;31mNameError\u001B[0m                                 Traceback (most recent call last)",
      "Input \u001B[1;32mIn [8]\u001B[0m, in \u001B[0;36m<cell line: 5>\u001B[1;34m()\u001B[0m\n\u001B[0;32m      4\u001B[0m \u001B[38;5;66;03m# Construct data structure for each ward\u001B[39;00m\n\u001B[0;32m      5\u001B[0m \u001B[38;5;28;01mfor\u001B[39;00m w \u001B[38;5;129;01min\u001B[39;00m wards:\n\u001B[0;32m      6\u001B[0m     d \u001B[38;5;241m=\u001B[39m { \n\u001B[0;32m      7\u001B[0m         \u001B[38;5;124m'\u001B[39m\u001B[38;5;124mWard name\u001B[39m\u001B[38;5;124m'\u001B[39m: w\u001B[38;5;241m.\u001B[39mname, \n\u001B[0;32m      8\u001B[0m         \u001B[38;5;124m'\u001B[39m\u001B[38;5;124mWard Specialty\u001B[39m\u001B[38;5;124m'\u001B[39m: w\u001B[38;5;241m.\u001B[39mdepartment\u001B[38;5;241m.\u001B[39mname\u001B[38;5;241m.\u001B[39mtitle(), \n\u001B[1;32m----> 9\u001B[0m         \u001B[38;5;124m'\u001B[39m\u001B[38;5;124mSpecialty\u001B[39m\u001B[38;5;124m'\u001B[39m : \u001B[43m_map_speciality_invert\u001B[49m(w\u001B[38;5;241m.\u001B[39mspecialty[\u001B[38;5;241m0\u001B[39m]\u001B[38;5;241m.\u001B[39mname),\n\u001B[0;32m     10\u001B[0m         \u001B[38;5;124m'\u001B[39m\u001B[38;5;124mWard sex\u001B[39m\u001B[38;5;124m'\u001B[39m : \u001B[38;5;124m\"\u001B[39m\u001B[38;5;124mMixed\u001B[39m\u001B[38;5;124m\"\u001B[39m \u001B[38;5;28;01mif\u001B[39;00m w\u001B[38;5;241m.\u001B[39msex\u001B[38;5;241m.\u001B[39mname \u001B[38;5;241m==\u001B[39m \u001B[38;5;124m\"\u001B[39m\u001B[38;5;124munknown\u001B[39m\u001B[38;5;124m\"\u001B[39m \u001B[38;5;28;01melse\u001B[39;00m w\u001B[38;5;241m.\u001B[39msex\u001B[38;5;241m.\u001B[39mname\u001B[38;5;241m.\u001B[39mtitle(),\n\u001B[0;32m     11\u001B[0m         \u001B[38;5;124m'\u001B[39m\u001B[38;5;124mWard COVID-19 Status\u001B[39m\u001B[38;5;124m'\u001B[39m : _ward_covid_status(w),\n\u001B[0;32m     12\u001B[0m         \u001B[38;5;124m'\u001B[39m\u001B[38;5;124mBed count (July 2021)\u001B[39m\u001B[38;5;124m'\u001B[39m: \u001B[38;5;28mlen\u001B[39m(w\u001B[38;5;241m.\u001B[39mbeds),\n\u001B[0;32m     13\u001B[0m         \u001B[38;5;124m'\u001B[39m\u001B[38;5;124mSide room count\u001B[39m\u001B[38;5;124m'\u001B[39m: [\u001B[38;5;28misinstance\u001B[39m(r, SideRoom) \u001B[38;5;28;01mfor\u001B[39;00m r \u001B[38;5;129;01min\u001B[39;00m w\u001B[38;5;241m.\u001B[39mrooms]\u001B[38;5;241m.\u001B[39mcount(\u001B[38;5;28;01mTrue\u001B[39;00m)\n\u001B[0;32m     14\u001B[0m         }\n\u001B[0;32m     15\u001B[0m     \u001B[38;5;66;03m# Append ward to dataframe\u001B[39;00m\n\u001B[0;32m     16\u001B[0m     df \u001B[38;5;241m=\u001B[39m df\u001B[38;5;241m.\u001B[39mappend(d, ignore_index\u001B[38;5;241m=\u001B[39m\u001B[38;5;28;01mTrue\u001B[39;00m)\n",
      "\u001B[1;31mNameError\u001B[0m: name '_map_speciality_invert' is not defined"
     ]
    }
   ],
   "source": [
    "# Create an empty dataframe\n",
    "df = pd.DataFrame()\n",
    "\n",
    "# Construct data structure for each ward\n",
    "for w in wards:\n",
    "    d = { \n",
    "        'Ward name': w.name, \n",
    "        'Ward Specialty': w.department.name.title(), \n",
    "        'Specialty' : _map_speciality_invert(w.specialty[0].name),\n",
    "        'Ward sex' : \"Mixed\" if w.sex.name == \"unknown\" else w.sex.name.title(),\n",
    "        'Ward COVID-19 Status' : _ward_covid_status(w),\n",
    "        'Bed count (July 2021)': len(w.beds),\n",
    "        'Side room count': [isinstance(r, SideRoom) for r in w.rooms].count(True)\n",
    "        }\n",
    "    # Append ward to dataframe\n",
    "    df = df.append(d, ignore_index=True)\n",
    "\n",
    "# Save dataframe to csv\n",
    "df.to_csv(\"../app/app/data/wards.csv\")"
   ]
  },
  {
   "cell_type": "markdown",
   "id": "63376c39",
   "metadata": {},
   "source": [
    "## 3. Admitting Patients and calculating penalties"
   ]
  },
  {
   "cell_type": "markdown",
   "id": "b08a0d0e",
   "metadata": {},
   "source": [
    "Patients can be created using the patient data class `hospital.people.Patient`. They have several attributes that are relevant to the hospital restrictions. Some of these attributes may trigger a patient level restriction to be attached to the patient, e.g., Patient needs a side room. \n",
    "\n",
    "Below we create a female, medical patient that is immunosuppressed and needs a side room. We then demonstrate how to admit this patient to different beds and calculate the penalty. "
   ]
  },
  {
   "cell_type": "code",
   "execution_count": 9,
   "id": "66d75370",
   "metadata": {},
   "outputs": [
    {
     "data": {
      "text/plain": "Patient(name='patient', sex=<Sex.female: 0>, department=<Department.medicine: 'medicine'>, specialty=<Specialty.general: 2>, weight=70.0, age=None, is_known_covid=False, is_suspected_covid=False, is_acute_surgical=False, is_elective=False, needs_mobility_assistence=False, is_dementia_risk=False, is_high_acuity=False, is_immunosupressed=True, is_end_of_life=False, is_infection_control=False, is_falls_risk=False, needs_visual_supervision=False, expected_length_of_stay=1, length_of_stay=0, bed=None, restrictions=[NeedsSideRoom(penalty=10)])"
     },
     "execution_count": 9,
     "metadata": {},
     "output_type": "execute_result"
    }
   ],
   "source": [
    "# there are many additional attributes that are false by default, such as covid status.\n",
    "patient = Patient(\n",
    "    name=\"patient\",\n",
    "    sex=\"female\",\n",
    "    department=\"medicine\",\n",
    "    specialty=\"general\",\n",
    "    is_immunosupressed=True,\n",
    ")\n",
    "\n",
    "# you can see that the patient has a sideroom restrictions because of their immunosuppression \n",
    "patient"
   ]
  },
  {
   "cell_type": "code",
   "execution_count": 10,
   "id": "c1df7622",
   "metadata": {},
   "outputs": [
    {
     "name": "stdout",
     "output_type": "stream",
     "text": [
      "H1\n",
      "├── Ward A\n",
      "│   ├── R00\n",
      "│   │   └── B000\n",
      "│   ├── R01\n",
      "│   │   └── B001\n",
      "│   ├── R02\n",
      "│   │   ├── B002\n",
      "│   │   ├── B003\n",
      "│   │   ├── B004\n",
      "│   │   ├── B005\n",
      "│   │   ├── B006\n",
      "│   │   ├── B007\n",
      "│   │   ├── B008\n",
      "│   │   └── B009\n",
      "│   ├── R03\n",
      "│   │   ├── B010\n",
      "│   │   ├── B011\n",
      "│   │   ├── B012\n",
      "│   │   ├── B013\n",
      "│   │   ├── B014\n",
      "│   │   ├── B015\n",
      "│   │   └── B016\n",
      "│   ├── R04\n",
      "│   │   ├── B017\n",
      "│   │   ├── B018\n",
      "│   │   ├── B019\n",
      "│   │   ├── B020\n",
      "│   │   ├── B021\n",
      "│   │   ├── B022\n",
      "│   │   └── B023\n",
      "│   └── R05\n",
      "│       ├── B024\n",
      "│       ├── B025\n",
      "│       ├── B026\n",
      "│       ├── B027\n",
      "│       ├── B028\n",
      "│       ├── B029\n",
      "│       └── B030\n",
      "├── Ward B\n",
      "│   ├── R06\n",
      "│   │   └── B031\n",
      "│   ├── R07\n",
      "│   │   └── B032\n",
      "│   ├── R08\n",
      "│   │   └── B033\n",
      "│   ├── R09\n",
      "│   │   └── B034\n",
      "│   ├── R10\n",
      "│   │   └── B035\n",
      "│   ├── R11\n",
      "│   │   └── B036\n",
      "│   ├── R12\n",
      "│   │   ├── B037\n",
      "│   │   ├── B038\n",
      "│   │   ├── B039\n",
      "│   │   ├── B040\n",
      "│   │   ├── B041\n",
      "│   │   ├── B042\n",
      "│   │   └── B043\n",
      "│   ├── R13\n",
      "│   │   ├── B044\n",
      "│   │   ├── B045\n",
      "│   │   ├── B046\n",
      "│   │   ├── B047\n",
      "│   │   ├── B048\n",
      "│   │   ├── B049\n",
      "│   │   └── B050\n",
      "│   └── R14\n",
      "│       ├── B051\n",
      "│       ├── B052\n",
      "│       ├── B053\n",
      "│       ├── B054\n",
      "│       ├── B055\n",
      "│       ├── B056\n",
      "│       └── B057\n",
      "├── Ward C\n",
      "│   ├── R15\n",
      "│   │   └── B058\n",
      "│   ├── R16\n",
      "│   │   └── B059\n",
      "│   ├── R17\n",
      "│   │   └── B060\n",
      "│   ├── R18\n",
      "│   │   └── B061\n",
      "│   ├── R19\n",
      "│   │   └── B062\n",
      "│   ├── R20\n",
      "│   │   └── B063\n",
      "│   ├── R21\n",
      "│   │   ├── B064\n",
      "│   │   ├── B065\n",
      "│   │   ├── B066\n",
      "│   │   ├── B067\n",
      "│   │   ├── B068\n",
      "│   │   ├── B069\n",
      "│   │   └── B070\n",
      "│   ├── R22\n",
      "│   │   ├── B071\n",
      "│   │   ├── B072\n",
      "│   │   ├── B073\n",
      "│   │   ├── B074\n",
      "│   │   ├── B075\n",
      "│   │   ├── B076\n",
      "│   │   └── B077\n",
      "│   └── R23\n",
      "│       ├── B078\n",
      "│       ├── B079\n",
      "│       ├── B080\n",
      "│       ├── B081\n",
      "│       ├── B082\n",
      "│       ├── B083\n",
      "│       └── B084\n",
      "├── Ward D\n",
      "│   ├── R24\n",
      "│   │   └── B085\n",
      "│   ├── R25\n",
      "│   │   └── B086\n",
      "│   ├── R26\n",
      "│   │   ├── B087\n",
      "│   │   ├── B088\n",
      "│   │   ├── B089\n",
      "│   │   ├── B090\n",
      "│   │   ├── B091\n",
      "│   │   ├── B092\n",
      "│   │   ├── B093\n",
      "│   │   └── B094\n",
      "│   └── R27\n",
      "│       ├── B095\n",
      "│       ├── B096\n",
      "│       ├── B097\n",
      "│       ├── B098\n",
      "│       ├── B099\n",
      "│       ├── B100\n",
      "│       ├── B101\n",
      "│       └── B102\n",
      "├── Ward E\n",
      "│   ├── R28\n",
      "│   │   ├── B103\n",
      "│   │   ├── B104\n",
      "│   │   ├── B105\n",
      "│   │   ├── B106\n",
      "│   │   ├── B107\n",
      "│   │   └── B108\n",
      "│   ├── R29\n",
      "│   │   ├── B109\n",
      "│   │   ├── B110\n",
      "│   │   ├── B111\n",
      "│   │   ├── B112\n",
      "│   │   ├── B113\n",
      "│   │   └── B114\n",
      "│   ├── R30\n",
      "│   │   ├── B115\n",
      "│   │   ├── B116\n",
      "│   │   ├── B117\n",
      "│   │   ├── B118\n",
      "│   │   ├── B119\n",
      "│   │   └── B120\n",
      "│   └── R31\n",
      "│       ├── B121\n",
      "│       ├── B122\n",
      "│       ├── B123\n",
      "│       ├── B124\n",
      "│       ├── B125\n",
      "│       └── B126\n",
      "└── Ward F\n",
      "    ├── R32\n",
      "    │   └── B127\n",
      "    ├── R33\n",
      "    │   └── B128\n",
      "    ├── R34\n",
      "    │   └── B129\n",
      "    ├── R35\n",
      "    │   ├── B130\n",
      "    │   ├── B131\n",
      "    │   ├── B132\n",
      "    │   ├── B133\n",
      "    │   ├── B134\n",
      "    │   └── B135\n",
      "    ├── R36\n",
      "    │   ├── B136\n",
      "    │   ├── B137\n",
      "    │   ├── B138\n",
      "    │   ├── B139\n",
      "    │   ├── B140\n",
      "    │   └── B141\n",
      "    ├── R37\n",
      "    │   ├── B142\n",
      "    │   ├── B143\n",
      "    │   ├── B144\n",
      "    │   ├── B145\n",
      "    │   ├── B146\n",
      "    │   └── B147\n",
      "    └── R38\n",
      "        ├── B148\n",
      "        ├── B149\n",
      "        ├── B150\n",
      "        ├── B151\n",
      "        ├── B152\n",
      "        └── B153\n"
     ]
    }
   ],
   "source": [
    "# lets view the hospital to pick a room\n",
    "hospital.render()"
   ]
  },
  {
   "cell_type": "code",
   "execution_count": 11,
   "id": "23ebec24",
   "metadata": {},
   "outputs": [
    {
     "name": "stdout",
     "output_type": "stream",
     "text": [
      "(Patient(name='patient', sex=<Sex.female: 0>, department=<Department.medicine: 'medicine'>, specialty=<Specialty.general: 2>, weight=70.0, age=None, is_known_covid=False, is_suspected_covid=False, is_acute_surgical=False, is_elective=False, needs_mobility_assistence=False, is_dementia_risk=False, is_high_acuity=False, is_immunosupressed=True, is_end_of_life=False, is_infection_control=False, is_falls_risk=False, needs_visual_supervision=False, expected_length_of_stay=1, length_of_stay=0, bed=Bed(name=B002, patient=...), restrictions=[NeedsSideRoom(penalty=10)]),)\n"
     ]
    }
   ],
   "source": [
    "# lets admit the patient to a bed bay in ward A\n",
    "hospital.admit(patient, \"B002\")\n",
    "print(hospital.patients)"
   ]
  },
  {
   "cell_type": "code",
   "execution_count": 12,
   "id": "f4b4a3b3",
   "metadata": {},
   "outputs": [
    {
     "name": "stdout",
     "output_type": "stream",
     "text": [
      "Total penalty: 10\n",
      "Broken restrictions: ['NeedsSideRoom']\n"
     ]
    }
   ],
   "source": [
    "# now lets check the penalty for the hospital\n",
    "result = hospital.eval_restrictions()\n",
    "total_penalty = result[\"score\"]\n",
    "broken_restrictions = result[\"names\"]\n",
    "print(f\"Total penalty: {total_penalty}\")\n",
    "print(f\"Broken restrictions: {broken_restrictions}\")"
   ]
  },
  {
   "cell_type": "markdown",
   "id": "c6dcd01b",
   "metadata": {},
   "source": [
    "This allocation results in a penalty of 10 because the NeedsSideRoom restriction is violated. We can discharge this patient from this specific bed and try a new bed. This time we admit them to a side room, and can see that that restriction is no longer broken."
   ]
  },
  {
   "cell_type": "code",
   "execution_count": 13,
   "id": "ccec2ec5",
   "metadata": {},
   "outputs": [
    {
     "name": "stdout",
     "output_type": "stream",
     "text": [
      "Total penalty: 0\n",
      "Broken restrictions: []\n"
     ]
    }
   ],
   "source": [
    "hospital.discharge(patient) # alternatively try hospital.clear() to discharge all patients\n",
    "hospital.admit(patient, \"B000\")\n",
    "\n",
    "new_result = hospital.eval_restrictions()\n",
    "new_total_penalty = new_result[\"score\"]\n",
    "new_broken_restrictions = new_result[\"names\"]\n",
    "print(f\"Total penalty: {new_total_penalty}\")\n",
    "print(f\"Broken restrictions: {new_broken_restrictions}\")"
   ]
  },
  {
   "cell_type": "code",
   "execution_count": 13,
   "id": "1b56197e",
   "metadata": {},
   "outputs": [],
   "source": []
  },
  {
   "cell_type": "code",
   "execution_count": null,
   "id": "36e20f8e",
   "metadata": {},
   "outputs": [],
   "source": []
  },
  {
   "cell_type": "code",
   "execution_count": null,
   "id": "ac41196f",
   "metadata": {},
   "outputs": [],
   "source": []
  },
  {
   "cell_type": "code",
   "execution_count": null,
   "id": "06926d77",
   "metadata": {},
   "outputs": [],
   "source": []
  },
  {
   "cell_type": "code",
   "execution_count": null,
   "id": "d5257d51",
   "metadata": {},
   "outputs": [],
   "source": []
  },
  {
   "cell_type": "code",
   "execution_count": null,
   "id": "d47c464c",
   "metadata": {},
   "outputs": [],
   "source": []
  }
 ],
 "metadata": {
  "kernelspec": {
   "display_name": "Python 3 (ipykernel)",
   "language": "python",
   "name": "python3"
  },
  "language_info": {
   "codemirror_mode": {
    "name": "ipython",
    "version": 3
   },
   "file_extension": ".py",
   "mimetype": "text/x-python",
   "name": "python",
   "nbconvert_exporter": "python",
   "pygments_lexer": "ipython3",
   "version": "3.9.5"
  }
 },
 "nbformat": 4,
 "nbformat_minor": 5
}